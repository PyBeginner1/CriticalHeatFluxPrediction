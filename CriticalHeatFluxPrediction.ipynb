{
  "nbformat": 4,
  "nbformat_minor": 0,
  "metadata": {
    "colab": {
      "name": "CriticalHeatFluxPrediction",
      "provenance": [],
      "collapsed_sections": [],
      "authorship_tag": "ABX9TyPiOfp2voRo+OVUd0dmss8l",
      "include_colab_link": true
    },
    "kernelspec": {
      "name": "python3",
      "display_name": "Python 3"
    },
    "language_info": {
      "name": "python"
    }
  },
  "cells": [
    {
      "cell_type": "markdown",
      "metadata": {
        "id": "view-in-github",
        "colab_type": "text"
      },
      "source": [
        "<a href=\"https://colab.research.google.com/github/PyBeginner1/CriticalHeatFluxPrediction/blob/main/CriticalHeatFluxPrediction.ipynb\" target=\"_parent\"><img src=\"https://colab.research.google.com/assets/colab-badge.svg\" alt=\"Open In Colab\"/></a>"
      ]
    },
    {
      "cell_type": "code",
      "metadata": {
        "id": "TzFGfnsVo9uY"
      },
      "source": [
        "import numpy as np\n",
        "import pandas as pd\n",
        "\n",
        "from sklearn.model_selection import KFold\n",
        "from sklearn.preprocessing import OneHotEncoder\n",
        "from sklearn.compose import ColumnTransformer\n",
        "from sklearn.pipeline import Pipeline\n",
        "\n",
        "from sklearn.ensemble import RandomForestRegressor"
      ],
      "execution_count": 23,
      "outputs": []
    },
    {
      "cell_type": "code",
      "metadata": {
        "id": "zadY27WppAIF"
      },
      "source": [
        "data = pd.read_csv('/content/cat.csv')"
      ],
      "execution_count": 24,
      "outputs": []
    },
    {
      "cell_type": "code",
      "metadata": {
        "colab": {
          "base_uri": "https://localhost:8080/",
          "height": 422
        },
        "id": "YVVFZW7lpMsM",
        "outputId": "25134b26-cb19-487d-c914-ffec10fdcb8e"
      },
      "source": [
        "data"
      ],
      "execution_count": 25,
      "outputs": [
        {
          "output_type": "execute_result",
          "data": {
            "text/html": [
              "<div>\n",
              "<style scoped>\n",
              "    .dataframe tbody tr th:only-of-type {\n",
              "        vertical-align: middle;\n",
              "    }\n",
              "\n",
              "    .dataframe tbody tr th {\n",
              "        vertical-align: top;\n",
              "    }\n",
              "\n",
              "    .dataframe thead th {\n",
              "        text-align: right;\n",
              "    }\n",
              "</style>\n",
              "<table border=\"1\" class=\"dataframe\">\n",
              "  <thead>\n",
              "    <tr style=\"text-align: right;\">\n",
              "      <th></th>\n",
              "      <th>id</th>\n",
              "      <th>author</th>\n",
              "      <th>geometry</th>\n",
              "      <th>pressure [MPa]</th>\n",
              "      <th>mass_flux [kg/m2-s]</th>\n",
              "      <th>x_e_out [-]</th>\n",
              "      <th>D_e [mm]</th>\n",
              "      <th>D_h [mm]</th>\n",
              "      <th>length [mm]</th>\n",
              "      <th>chf_exp [MW/m2]</th>\n",
              "    </tr>\n",
              "  </thead>\n",
              "  <tbody>\n",
              "    <tr>\n",
              "      <th>0</th>\n",
              "      <td>1</td>\n",
              "      <td>Inasaka</td>\n",
              "      <td>tube</td>\n",
              "      <td>0.39</td>\n",
              "      <td>5600</td>\n",
              "      <td>-0.1041</td>\n",
              "      <td>3.0</td>\n",
              "      <td>3.0</td>\n",
              "      <td>100</td>\n",
              "      <td>11.3</td>\n",
              "    </tr>\n",
              "    <tr>\n",
              "      <th>1</th>\n",
              "      <td>2</td>\n",
              "      <td>Inasaka</td>\n",
              "      <td>tube</td>\n",
              "      <td>0.31</td>\n",
              "      <td>6700</td>\n",
              "      <td>-0.0596</td>\n",
              "      <td>3.0</td>\n",
              "      <td>3.0</td>\n",
              "      <td>100</td>\n",
              "      <td>10.6</td>\n",
              "    </tr>\n",
              "    <tr>\n",
              "      <th>2</th>\n",
              "      <td>3</td>\n",
              "      <td>Inasaka</td>\n",
              "      <td>tube</td>\n",
              "      <td>0.33</td>\n",
              "      <td>4300</td>\n",
              "      <td>-0.0395</td>\n",
              "      <td>3.0</td>\n",
              "      <td>3.0</td>\n",
              "      <td>100</td>\n",
              "      <td>7.3</td>\n",
              "    </tr>\n",
              "    <tr>\n",
              "      <th>3</th>\n",
              "      <td>4</td>\n",
              "      <td>Inasaka</td>\n",
              "      <td>tube</td>\n",
              "      <td>0.62</td>\n",
              "      <td>6400</td>\n",
              "      <td>-0.1460</td>\n",
              "      <td>3.0</td>\n",
              "      <td>3.0</td>\n",
              "      <td>100</td>\n",
              "      <td>12.8</td>\n",
              "    </tr>\n",
              "    <tr>\n",
              "      <th>4</th>\n",
              "      <td>5</td>\n",
              "      <td>Inasaka</td>\n",
              "      <td>tube</td>\n",
              "      <td>0.64</td>\n",
              "      <td>4700</td>\n",
              "      <td>-0.0849</td>\n",
              "      <td>3.0</td>\n",
              "      <td>3.0</td>\n",
              "      <td>100</td>\n",
              "      <td>11.0</td>\n",
              "    </tr>\n",
              "    <tr>\n",
              "      <th>...</th>\n",
              "      <td>...</td>\n",
              "      <td>...</td>\n",
              "      <td>...</td>\n",
              "      <td>...</td>\n",
              "      <td>...</td>\n",
              "      <td>...</td>\n",
              "      <td>...</td>\n",
              "      <td>...</td>\n",
              "      <td>...</td>\n",
              "      <td>...</td>\n",
              "    </tr>\n",
              "    <tr>\n",
              "      <th>1860</th>\n",
              "      <td>1861</td>\n",
              "      <td>Richenderfer</td>\n",
              "      <td>plate</td>\n",
              "      <td>1.01</td>\n",
              "      <td>1500</td>\n",
              "      <td>-0.0218</td>\n",
              "      <td>15.0</td>\n",
              "      <td>120.0</td>\n",
              "      <td>10</td>\n",
              "      <td>9.4</td>\n",
              "    </tr>\n",
              "    <tr>\n",
              "      <th>1861</th>\n",
              "      <td>1862</td>\n",
              "      <td>Richenderfer</td>\n",
              "      <td>plate</td>\n",
              "      <td>1.01</td>\n",
              "      <td>1500</td>\n",
              "      <td>-0.0434</td>\n",
              "      <td>15.0</td>\n",
              "      <td>120.0</td>\n",
              "      <td>10</td>\n",
              "      <td>10.4</td>\n",
              "    </tr>\n",
              "    <tr>\n",
              "      <th>1862</th>\n",
              "      <td>1863</td>\n",
              "      <td>Richenderfer</td>\n",
              "      <td>plate</td>\n",
              "      <td>1.01</td>\n",
              "      <td>2000</td>\n",
              "      <td>-0.0109</td>\n",
              "      <td>15.0</td>\n",
              "      <td>120.0</td>\n",
              "      <td>10</td>\n",
              "      <td>10.8</td>\n",
              "    </tr>\n",
              "    <tr>\n",
              "      <th>1863</th>\n",
              "      <td>1864</td>\n",
              "      <td>Richenderfer</td>\n",
              "      <td>plate</td>\n",
              "      <td>1.01</td>\n",
              "      <td>2000</td>\n",
              "      <td>-0.0218</td>\n",
              "      <td>15.0</td>\n",
              "      <td>120.0</td>\n",
              "      <td>10</td>\n",
              "      <td>10.9</td>\n",
              "    </tr>\n",
              "    <tr>\n",
              "      <th>1864</th>\n",
              "      <td>1865</td>\n",
              "      <td>Richenderfer</td>\n",
              "      <td>plate</td>\n",
              "      <td>1.01</td>\n",
              "      <td>2000</td>\n",
              "      <td>-0.0434</td>\n",
              "      <td>15.0</td>\n",
              "      <td>120.0</td>\n",
              "      <td>10</td>\n",
              "      <td>11.5</td>\n",
              "    </tr>\n",
              "  </tbody>\n",
              "</table>\n",
              "<p>1865 rows × 10 columns</p>\n",
              "</div>"
            ],
            "text/plain": [
              "        id        author geometry  ...  D_h [mm]  length [mm]  chf_exp [MW/m2]\n",
              "0        1       Inasaka     tube  ...       3.0          100             11.3\n",
              "1        2       Inasaka     tube  ...       3.0          100             10.6\n",
              "2        3       Inasaka     tube  ...       3.0          100              7.3\n",
              "3        4       Inasaka     tube  ...       3.0          100             12.8\n",
              "4        5       Inasaka     tube  ...       3.0          100             11.0\n",
              "...    ...           ...      ...  ...       ...          ...              ...\n",
              "1860  1861  Richenderfer    plate  ...     120.0           10              9.4\n",
              "1861  1862  Richenderfer    plate  ...     120.0           10             10.4\n",
              "1862  1863  Richenderfer    plate  ...     120.0           10             10.8\n",
              "1863  1864  Richenderfer    plate  ...     120.0           10             10.9\n",
              "1864  1865  Richenderfer    plate  ...     120.0           10             11.5\n",
              "\n",
              "[1865 rows x 10 columns]"
            ]
          },
          "metadata": {
            "tags": []
          },
          "execution_count": 25
        }
      ]
    },
    {
      "cell_type": "code",
      "metadata": {
        "colab": {
          "base_uri": "https://localhost:8080/"
        },
        "id": "3NFNWrnapNMj",
        "outputId": "f3df6807-5086-49ba-a841-1026dbd0138c"
      },
      "source": [
        "data.info()"
      ],
      "execution_count": 26,
      "outputs": [
        {
          "output_type": "stream",
          "text": [
            "<class 'pandas.core.frame.DataFrame'>\n",
            "RangeIndex: 1865 entries, 0 to 1864\n",
            "Data columns (total 10 columns):\n",
            " #   Column               Non-Null Count  Dtype  \n",
            "---  ------               --------------  -----  \n",
            " 0   id                   1865 non-null   int64  \n",
            " 1   author               1865 non-null   object \n",
            " 2   geometry             1865 non-null   object \n",
            " 3   pressure [MPa]       1865 non-null   float64\n",
            " 4   mass_flux [kg/m2-s]  1865 non-null   int64  \n",
            " 5   x_e_out [-]          1865 non-null   float64\n",
            " 6   D_e [mm]             1865 non-null   float64\n",
            " 7   D_h [mm]             1865 non-null   float64\n",
            " 8   length [mm]          1865 non-null   int64  \n",
            " 9   chf_exp [MW/m2]      1865 non-null   float64\n",
            "dtypes: float64(5), int64(3), object(2)\n",
            "memory usage: 145.8+ KB\n"
          ],
          "name": "stdout"
        }
      ]
    },
    {
      "cell_type": "code",
      "metadata": {
        "colab": {
          "base_uri": "https://localhost:8080/"
        },
        "id": "TOIyWxFRu9W5",
        "outputId": "7582ef4c-4aff-4c0f-9d96-0f9146906d08"
      },
      "source": [
        "data.isnull().sum()"
      ],
      "execution_count": 27,
      "outputs": [
        {
          "output_type": "execute_result",
          "data": {
            "text/plain": [
              "id                     0\n",
              "author                 0\n",
              "geometry               0\n",
              "pressure [MPa]         0\n",
              "mass_flux [kg/m2-s]    0\n",
              "x_e_out [-]            0\n",
              "D_e [mm]               0\n",
              "D_h [mm]               0\n",
              "length [mm]            0\n",
              "chf_exp [MW/m2]        0\n",
              "dtype: int64"
            ]
          },
          "metadata": {
            "tags": []
          },
          "execution_count": 27
        }
      ]
    },
    {
      "cell_type": "code",
      "metadata": {
        "colab": {
          "base_uri": "https://localhost:8080/",
          "height": 299
        },
        "id": "ycSYnQz4vEax",
        "outputId": "d6cb05de-bf9b-4b79-ff5d-11b83b05e82c"
      },
      "source": [
        "data.describe()"
      ],
      "execution_count": 28,
      "outputs": [
        {
          "output_type": "execute_result",
          "data": {
            "text/html": [
              "<div>\n",
              "<style scoped>\n",
              "    .dataframe tbody tr th:only-of-type {\n",
              "        vertical-align: middle;\n",
              "    }\n",
              "\n",
              "    .dataframe tbody tr th {\n",
              "        vertical-align: top;\n",
              "    }\n",
              "\n",
              "    .dataframe thead th {\n",
              "        text-align: right;\n",
              "    }\n",
              "</style>\n",
              "<table border=\"1\" class=\"dataframe\">\n",
              "  <thead>\n",
              "    <tr style=\"text-align: right;\">\n",
              "      <th></th>\n",
              "      <th>id</th>\n",
              "      <th>pressure [MPa]</th>\n",
              "      <th>mass_flux [kg/m2-s]</th>\n",
              "      <th>x_e_out [-]</th>\n",
              "      <th>D_e [mm]</th>\n",
              "      <th>D_h [mm]</th>\n",
              "      <th>length [mm]</th>\n",
              "      <th>chf_exp [MW/m2]</th>\n",
              "    </tr>\n",
              "  </thead>\n",
              "  <tbody>\n",
              "    <tr>\n",
              "      <th>count</th>\n",
              "      <td>1865.000000</td>\n",
              "      <td>1865.000000</td>\n",
              "      <td>1865.000000</td>\n",
              "      <td>1865.000000</td>\n",
              "      <td>1865.000000</td>\n",
              "      <td>1865.000000</td>\n",
              "      <td>1865.000000</td>\n",
              "      <td>1865.000000</td>\n",
              "    </tr>\n",
              "    <tr>\n",
              "      <th>mean</th>\n",
              "      <td>933.000000</td>\n",
              "      <td>10.010949</td>\n",
              "      <td>2862.647721</td>\n",
              "      <td>0.016179</td>\n",
              "      <td>9.417212</td>\n",
              "      <td>16.167721</td>\n",
              "      <td>911.340483</td>\n",
              "      <td>3.854638</td>\n",
              "    </tr>\n",
              "    <tr>\n",
              "      <th>std</th>\n",
              "      <td>538.523444</td>\n",
              "      <td>4.282715</td>\n",
              "      <td>1656.412247</td>\n",
              "      <td>0.117575</td>\n",
              "      <td>6.333807</td>\n",
              "      <td>21.182870</td>\n",
              "      <td>726.718974</td>\n",
              "      <td>1.985535</td>\n",
              "    </tr>\n",
              "    <tr>\n",
              "      <th>min</th>\n",
              "      <td>1.000000</td>\n",
              "      <td>0.100000</td>\n",
              "      <td>0.000000</td>\n",
              "      <td>-0.866700</td>\n",
              "      <td>1.000000</td>\n",
              "      <td>1.000000</td>\n",
              "      <td>10.000000</td>\n",
              "      <td>0.800000</td>\n",
              "    </tr>\n",
              "    <tr>\n",
              "      <th>25%</th>\n",
              "      <td>467.000000</td>\n",
              "      <td>6.890000</td>\n",
              "      <td>1519.000000</td>\n",
              "      <td>-0.048300</td>\n",
              "      <td>5.600000</td>\n",
              "      <td>5.600000</td>\n",
              "      <td>432.000000</td>\n",
              "      <td>2.400000</td>\n",
              "    </tr>\n",
              "    <tr>\n",
              "      <th>50%</th>\n",
              "      <td>933.000000</td>\n",
              "      <td>10.340000</td>\n",
              "      <td>2590.000000</td>\n",
              "      <td>0.024400</td>\n",
              "      <td>8.500000</td>\n",
              "      <td>10.300000</td>\n",
              "      <td>625.000000</td>\n",
              "      <td>3.500000</td>\n",
              "    </tr>\n",
              "    <tr>\n",
              "      <th>75%</th>\n",
              "      <td>1399.000000</td>\n",
              "      <td>13.790000</td>\n",
              "      <td>3933.000000</td>\n",
              "      <td>0.100600</td>\n",
              "      <td>11.100000</td>\n",
              "      <td>15.200000</td>\n",
              "      <td>1778.000000</td>\n",
              "      <td>4.800000</td>\n",
              "    </tr>\n",
              "    <tr>\n",
              "      <th>max</th>\n",
              "      <td>1865.000000</td>\n",
              "      <td>20.680000</td>\n",
              "      <td>7975.000000</td>\n",
              "      <td>0.232000</td>\n",
              "      <td>37.500000</td>\n",
              "      <td>120.000000</td>\n",
              "      <td>3048.000000</td>\n",
              "      <td>19.300000</td>\n",
              "    </tr>\n",
              "  </tbody>\n",
              "</table>\n",
              "</div>"
            ],
            "text/plain": [
              "                id  pressure [MPa]  ...  length [mm]  chf_exp [MW/m2]\n",
              "count  1865.000000     1865.000000  ...  1865.000000      1865.000000\n",
              "mean    933.000000       10.010949  ...   911.340483         3.854638\n",
              "std     538.523444        4.282715  ...   726.718974         1.985535\n",
              "min       1.000000        0.100000  ...    10.000000         0.800000\n",
              "25%     467.000000        6.890000  ...   432.000000         2.400000\n",
              "50%     933.000000       10.340000  ...   625.000000         3.500000\n",
              "75%    1399.000000       13.790000  ...  1778.000000         4.800000\n",
              "max    1865.000000       20.680000  ...  3048.000000        19.300000\n",
              "\n",
              "[8 rows x 8 columns]"
            ]
          },
          "metadata": {
            "tags": []
          },
          "execution_count": 28
        }
      ]
    },
    {
      "cell_type": "code",
      "metadata": {
        "id": "rdBxSRfCvGLh"
      },
      "source": [
        "data = data.drop(['id', 'author'],axis =1)"
      ],
      "execution_count": 29,
      "outputs": []
    },
    {
      "cell_type": "markdown",
      "metadata": {
        "id": "VL5-XSKq5K3W"
      },
      "source": [
        "Shuffle the dataset since kfold doesnt"
      ]
    },
    {
      "cell_type": "code",
      "metadata": {
        "id": "IDuh2YAA5BqN"
      },
      "source": [
        "data = data.sample(frac = 1.0, random_state = 1)"
      ],
      "execution_count": 37,
      "outputs": []
    },
    {
      "cell_type": "code",
      "metadata": {
        "colab": {
          "base_uri": "https://localhost:8080/",
          "height": 422
        },
        "id": "bcfuGNodw14L",
        "outputId": "dcdae444-93b7-4e79-9943-bd27172e2e8a"
      },
      "source": [
        "data"
      ],
      "execution_count": 38,
      "outputs": [
        {
          "output_type": "execute_result",
          "data": {
            "text/html": [
              "<div>\n",
              "<style scoped>\n",
              "    .dataframe tbody tr th:only-of-type {\n",
              "        vertical-align: middle;\n",
              "    }\n",
              "\n",
              "    .dataframe tbody tr th {\n",
              "        vertical-align: top;\n",
              "    }\n",
              "\n",
              "    .dataframe thead th {\n",
              "        text-align: right;\n",
              "    }\n",
              "</style>\n",
              "<table border=\"1\" class=\"dataframe\">\n",
              "  <thead>\n",
              "    <tr style=\"text-align: right;\">\n",
              "      <th></th>\n",
              "      <th>geometry</th>\n",
              "      <th>pressure [MPa]</th>\n",
              "      <th>mass_flux [kg/m2-s]</th>\n",
              "      <th>x_e_out [-]</th>\n",
              "      <th>D_e [mm]</th>\n",
              "      <th>D_h [mm]</th>\n",
              "      <th>length [mm]</th>\n",
              "      <th>chf_exp [MW/m2]</th>\n",
              "    </tr>\n",
              "  </thead>\n",
              "  <tbody>\n",
              "    <tr>\n",
              "      <th>400</th>\n",
              "      <td>tube</td>\n",
              "      <td>6.89</td>\n",
              "      <td>1967</td>\n",
              "      <td>0.1203</td>\n",
              "      <td>12.8</td>\n",
              "      <td>12.8</td>\n",
              "      <td>1930</td>\n",
              "      <td>2.8</td>\n",
              "    </tr>\n",
              "    <tr>\n",
              "      <th>571</th>\n",
              "      <td>tube</td>\n",
              "      <td>11.03</td>\n",
              "      <td>2034</td>\n",
              "      <td>0.0616</td>\n",
              "      <td>9.3</td>\n",
              "      <td>9.3</td>\n",
              "      <td>762</td>\n",
              "      <td>3.2</td>\n",
              "    </tr>\n",
              "    <tr>\n",
              "      <th>351</th>\n",
              "      <td>tube</td>\n",
              "      <td>7.00</td>\n",
              "      <td>4069</td>\n",
              "      <td>0.0636</td>\n",
              "      <td>10.8</td>\n",
              "      <td>10.8</td>\n",
              "      <td>864</td>\n",
              "      <td>3.2</td>\n",
              "    </tr>\n",
              "    <tr>\n",
              "      <th>1479</th>\n",
              "      <td>annulus</td>\n",
              "      <td>13.79</td>\n",
              "      <td>2729</td>\n",
              "      <td>0.0537</td>\n",
              "      <td>5.6</td>\n",
              "      <td>15.2</td>\n",
              "      <td>2134</td>\n",
              "      <td>1.7</td>\n",
              "    </tr>\n",
              "    <tr>\n",
              "      <th>1371</th>\n",
              "      <td>tube</td>\n",
              "      <td>13.79</td>\n",
              "      <td>690</td>\n",
              "      <td>-0.4854</td>\n",
              "      <td>11.1</td>\n",
              "      <td>11.1</td>\n",
              "      <td>457</td>\n",
              "      <td>3.6</td>\n",
              "    </tr>\n",
              "    <tr>\n",
              "      <th>...</th>\n",
              "      <td>...</td>\n",
              "      <td>...</td>\n",
              "      <td>...</td>\n",
              "      <td>...</td>\n",
              "      <td>...</td>\n",
              "      <td>...</td>\n",
              "      <td>...</td>\n",
              "      <td>...</td>\n",
              "    </tr>\n",
              "    <tr>\n",
              "      <th>905</th>\n",
              "      <td>tube</td>\n",
              "      <td>13.79</td>\n",
              "      <td>4910</td>\n",
              "      <td>0.1131</td>\n",
              "      <td>4.7</td>\n",
              "      <td>4.7</td>\n",
              "      <td>318</td>\n",
              "      <td>3.0</td>\n",
              "    </tr>\n",
              "    <tr>\n",
              "      <th>1791</th>\n",
              "      <td>annulus</td>\n",
              "      <td>6.85</td>\n",
              "      <td>2292</td>\n",
              "      <td>0.0330</td>\n",
              "      <td>8.5</td>\n",
              "      <td>24.6</td>\n",
              "      <td>1778</td>\n",
              "      <td>4.0</td>\n",
              "    </tr>\n",
              "    <tr>\n",
              "      <th>1096</th>\n",
              "      <td>tube</td>\n",
              "      <td>13.79</td>\n",
              "      <td>2116</td>\n",
              "      <td>0.0926</td>\n",
              "      <td>7.8</td>\n",
              "      <td>7.8</td>\n",
              "      <td>591</td>\n",
              "      <td>2.1</td>\n",
              "    </tr>\n",
              "    <tr>\n",
              "      <th>235</th>\n",
              "      <td>tube</td>\n",
              "      <td>6.89</td>\n",
              "      <td>4042</td>\n",
              "      <td>-0.0008</td>\n",
              "      <td>10.3</td>\n",
              "      <td>10.3</td>\n",
              "      <td>762</td>\n",
              "      <td>4.0</td>\n",
              "    </tr>\n",
              "    <tr>\n",
              "      <th>1061</th>\n",
              "      <td>tube</td>\n",
              "      <td>13.79</td>\n",
              "      <td>1113</td>\n",
              "      <td>0.1584</td>\n",
              "      <td>7.8</td>\n",
              "      <td>7.8</td>\n",
              "      <td>591</td>\n",
              "      <td>2.0</td>\n",
              "    </tr>\n",
              "  </tbody>\n",
              "</table>\n",
              "<p>1865 rows × 8 columns</p>\n",
              "</div>"
            ],
            "text/plain": [
              "     geometry  pressure [MPa]  ...  length [mm]  chf_exp [MW/m2]\n",
              "400      tube            6.89  ...         1930              2.8\n",
              "571      tube           11.03  ...          762              3.2\n",
              "351      tube            7.00  ...          864              3.2\n",
              "1479  annulus           13.79  ...         2134              1.7\n",
              "1371     tube           13.79  ...          457              3.6\n",
              "...       ...             ...  ...          ...              ...\n",
              "905      tube           13.79  ...          318              3.0\n",
              "1791  annulus            6.85  ...         1778              4.0\n",
              "1096     tube           13.79  ...          591              2.1\n",
              "235      tube            6.89  ...          762              4.0\n",
              "1061     tube           13.79  ...          591              2.0\n",
              "\n",
              "[1865 rows x 8 columns]"
            ]
          },
          "metadata": {
            "tags": []
          },
          "execution_count": 38
        }
      ]
    },
    {
      "cell_type": "code",
      "metadata": {
        "id": "hlli8aPkw5LR"
      },
      "source": [
        "X = data.drop('chf_exp [MW/m2]', axis =1)\n",
        "Y = data['chf_exp [MW/m2]']"
      ],
      "execution_count": 39,
      "outputs": []
    },
    {
      "cell_type": "code",
      "metadata": {
        "colab": {
          "base_uri": "https://localhost:8080/",
          "height": 422
        },
        "id": "qRRmCzkhxTTq",
        "outputId": "d65cdd17-5d1a-46af-da93-2a52b1ac0477"
      },
      "source": [
        "X"
      ],
      "execution_count": 40,
      "outputs": [
        {
          "output_type": "execute_result",
          "data": {
            "text/html": [
              "<div>\n",
              "<style scoped>\n",
              "    .dataframe tbody tr th:only-of-type {\n",
              "        vertical-align: middle;\n",
              "    }\n",
              "\n",
              "    .dataframe tbody tr th {\n",
              "        vertical-align: top;\n",
              "    }\n",
              "\n",
              "    .dataframe thead th {\n",
              "        text-align: right;\n",
              "    }\n",
              "</style>\n",
              "<table border=\"1\" class=\"dataframe\">\n",
              "  <thead>\n",
              "    <tr style=\"text-align: right;\">\n",
              "      <th></th>\n",
              "      <th>geometry</th>\n",
              "      <th>pressure [MPa]</th>\n",
              "      <th>mass_flux [kg/m2-s]</th>\n",
              "      <th>x_e_out [-]</th>\n",
              "      <th>D_e [mm]</th>\n",
              "      <th>D_h [mm]</th>\n",
              "      <th>length [mm]</th>\n",
              "    </tr>\n",
              "  </thead>\n",
              "  <tbody>\n",
              "    <tr>\n",
              "      <th>400</th>\n",
              "      <td>tube</td>\n",
              "      <td>6.89</td>\n",
              "      <td>1967</td>\n",
              "      <td>0.1203</td>\n",
              "      <td>12.8</td>\n",
              "      <td>12.8</td>\n",
              "      <td>1930</td>\n",
              "    </tr>\n",
              "    <tr>\n",
              "      <th>571</th>\n",
              "      <td>tube</td>\n",
              "      <td>11.03</td>\n",
              "      <td>2034</td>\n",
              "      <td>0.0616</td>\n",
              "      <td>9.3</td>\n",
              "      <td>9.3</td>\n",
              "      <td>762</td>\n",
              "    </tr>\n",
              "    <tr>\n",
              "      <th>351</th>\n",
              "      <td>tube</td>\n",
              "      <td>7.00</td>\n",
              "      <td>4069</td>\n",
              "      <td>0.0636</td>\n",
              "      <td>10.8</td>\n",
              "      <td>10.8</td>\n",
              "      <td>864</td>\n",
              "    </tr>\n",
              "    <tr>\n",
              "      <th>1479</th>\n",
              "      <td>annulus</td>\n",
              "      <td>13.79</td>\n",
              "      <td>2729</td>\n",
              "      <td>0.0537</td>\n",
              "      <td>5.6</td>\n",
              "      <td>15.2</td>\n",
              "      <td>2134</td>\n",
              "    </tr>\n",
              "    <tr>\n",
              "      <th>1371</th>\n",
              "      <td>tube</td>\n",
              "      <td>13.79</td>\n",
              "      <td>690</td>\n",
              "      <td>-0.4854</td>\n",
              "      <td>11.1</td>\n",
              "      <td>11.1</td>\n",
              "      <td>457</td>\n",
              "    </tr>\n",
              "    <tr>\n",
              "      <th>...</th>\n",
              "      <td>...</td>\n",
              "      <td>...</td>\n",
              "      <td>...</td>\n",
              "      <td>...</td>\n",
              "      <td>...</td>\n",
              "      <td>...</td>\n",
              "      <td>...</td>\n",
              "    </tr>\n",
              "    <tr>\n",
              "      <th>905</th>\n",
              "      <td>tube</td>\n",
              "      <td>13.79</td>\n",
              "      <td>4910</td>\n",
              "      <td>0.1131</td>\n",
              "      <td>4.7</td>\n",
              "      <td>4.7</td>\n",
              "      <td>318</td>\n",
              "    </tr>\n",
              "    <tr>\n",
              "      <th>1791</th>\n",
              "      <td>annulus</td>\n",
              "      <td>6.85</td>\n",
              "      <td>2292</td>\n",
              "      <td>0.0330</td>\n",
              "      <td>8.5</td>\n",
              "      <td>24.6</td>\n",
              "      <td>1778</td>\n",
              "    </tr>\n",
              "    <tr>\n",
              "      <th>1096</th>\n",
              "      <td>tube</td>\n",
              "      <td>13.79</td>\n",
              "      <td>2116</td>\n",
              "      <td>0.0926</td>\n",
              "      <td>7.8</td>\n",
              "      <td>7.8</td>\n",
              "      <td>591</td>\n",
              "    </tr>\n",
              "    <tr>\n",
              "      <th>235</th>\n",
              "      <td>tube</td>\n",
              "      <td>6.89</td>\n",
              "      <td>4042</td>\n",
              "      <td>-0.0008</td>\n",
              "      <td>10.3</td>\n",
              "      <td>10.3</td>\n",
              "      <td>762</td>\n",
              "    </tr>\n",
              "    <tr>\n",
              "      <th>1061</th>\n",
              "      <td>tube</td>\n",
              "      <td>13.79</td>\n",
              "      <td>1113</td>\n",
              "      <td>0.1584</td>\n",
              "      <td>7.8</td>\n",
              "      <td>7.8</td>\n",
              "      <td>591</td>\n",
              "    </tr>\n",
              "  </tbody>\n",
              "</table>\n",
              "<p>1865 rows × 7 columns</p>\n",
              "</div>"
            ],
            "text/plain": [
              "     geometry  pressure [MPa]  ...  D_h [mm]  length [mm]\n",
              "400      tube            6.89  ...      12.8         1930\n",
              "571      tube           11.03  ...       9.3          762\n",
              "351      tube            7.00  ...      10.8          864\n",
              "1479  annulus           13.79  ...      15.2         2134\n",
              "1371     tube           13.79  ...      11.1          457\n",
              "...       ...             ...  ...       ...          ...\n",
              "905      tube           13.79  ...       4.7          318\n",
              "1791  annulus            6.85  ...      24.6         1778\n",
              "1096     tube           13.79  ...       7.8          591\n",
              "235      tube            6.89  ...      10.3          762\n",
              "1061     tube           13.79  ...       7.8          591\n",
              "\n",
              "[1865 rows x 7 columns]"
            ]
          },
          "metadata": {
            "tags": []
          },
          "execution_count": 40
        }
      ]
    },
    {
      "cell_type": "code",
      "metadata": {
        "colab": {
          "base_uri": "https://localhost:8080/"
        },
        "id": "4_HJNesdxT6h",
        "outputId": "0aeab6a0-02ae-416b-d3dc-16f3e6d83e8b"
      },
      "source": [
        "Y"
      ],
      "execution_count": 41,
      "outputs": [
        {
          "output_type": "execute_result",
          "data": {
            "text/plain": [
              "400     2.8\n",
              "571     3.2\n",
              "351     3.2\n",
              "1479    1.7\n",
              "1371    3.6\n",
              "       ... \n",
              "905     3.0\n",
              "1791    4.0\n",
              "1096    2.1\n",
              "235     4.0\n",
              "1061    2.0\n",
              "Name: chf_exp [MW/m2], Length: 1865, dtype: float64"
            ]
          },
          "metadata": {
            "tags": []
          },
          "execution_count": 41
        }
      ]
    },
    {
      "cell_type": "code",
      "metadata": {
        "colab": {
          "base_uri": "https://localhost:8080/"
        },
        "id": "gCYba-HjxUjB",
        "outputId": "9756b1dc-b9cf-429c-e082-20c352ad48a8"
      },
      "source": [
        "X['geometry'].value_counts()"
      ],
      "execution_count": 42,
      "outputs": [
        {
          "output_type": "execute_result",
          "data": {
            "text/plain": [
              "tube       1439\n",
              "annulus     378\n",
              "plate        48\n",
              "Name: geometry, dtype: int64"
            ]
          },
          "metadata": {
            "tags": []
          },
          "execution_count": 42
        }
      ]
    },
    {
      "cell_type": "code",
      "metadata": {
        "id": "wLD8LVCGz356"
      },
      "source": [
        "def build_model():\n",
        "\n",
        "  #onehot encode geometry column\n",
        "  nominal_transformer = Pipeline(steps = [\n",
        "                    ('onehot', OneHotEncoder(sparse = False, handle_unknown = 'ignore'))\n",
        "  ])\n",
        "\n",
        "  #for column geometry\n",
        "  preprocessing = ColumnTransformer(transformers = [('nominal', nominal_transformer, ['geometry'])], remainder = 'passthrough')\n",
        "\n",
        "\n",
        "\n",
        "  model = Pipeline(steps = [\n",
        "                            ('preprocessor', preprocessing),\n",
        "                            ('regressor', RandomForestRegressor(random_state = 1))\n",
        "  ])\n",
        "\n",
        "  return model"
      ],
      "execution_count": 46,
      "outputs": []
    },
    {
      "cell_type": "markdown",
      "metadata": {
        "id": "3k9RL9Qu4iza"
      },
      "source": [
        "Train"
      ]
    },
    {
      "cell_type": "code",
      "metadata": {
        "colab": {
          "base_uri": "https://localhost:8080/"
        },
        "id": "TjTxkLGb4T8Y",
        "outputId": "73e1db59-2f8d-4f1a-f9e5-9cb983165c03"
      },
      "source": [
        "kf = KFold(n_splits = 5)\n",
        "\n",
        "rmses = []\n",
        "\n",
        "for train_idx, test_idx in kf.split(X):\n",
        "  X_train = X.iloc[train_idx, :]\n",
        "  X_test = X.iloc[test_idx, :]\n",
        "  Y_train = Y.iloc[train_idx]\n",
        "  Y_test = Y.iloc[test_idx]\n",
        "\n",
        "  model = build_model()\n",
        "  model.fit(X_train, Y_train)\n",
        "\n",
        "  y_pred = model.predict(X_test)\n",
        "\n",
        "  rmse = np.sqrt(np.mean((Y_test - y_pred)**2))\n",
        "\n",
        "  rmses.append(rmse)\n",
        "\n",
        "final_rmse = np.mean(rmses)\n",
        "\n",
        "print('RMSE:{:.2f}'.format(final_rmse))\n"
      ],
      "execution_count": 51,
      "outputs": [
        {
          "output_type": "stream",
          "text": [
            "RMSE:0.64\n"
          ],
          "name": "stdout"
        }
      ]
    },
    {
      "cell_type": "code",
      "metadata": {
        "id": "HJIbWTAd-f9P"
      },
      "source": [
        ""
      ],
      "execution_count": null,
      "outputs": []
    }
  ]
}